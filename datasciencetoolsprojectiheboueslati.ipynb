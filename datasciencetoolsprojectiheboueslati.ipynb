{
 "cells": [
  {
   "cell_type": "markdown",
   "id": "cee7103d",
   "metadata": {},
   "source": [
    "# notebook final examen"
   ]
  },
  {
   "cell_type": "markdown",
   "id": "451fb573",
   "metadata": {},
   "source": [
    "## Introduction\n",
    "\n",
    "here is the introduction\n"
   ]
  },
  {
   "cell_type": "markdown",
   "id": "9bc252e6",
   "metadata": {},
   "source": [
    "## Data Science Languages\n",
    "\n",
    "1. **Python**\n",
    "\n",
    "2. **R**\n",
    "\n",
    "3. **SQL**\n",
    "\n",
    "4. **Julia**\n",
    "\n",
    "5. **Scala**\n"
   ]
  },
  {
   "cell_type": "markdown",
   "id": "d5117426",
   "metadata": {},
   "source": [
    "## Data Science Libraries in Python\n",
    "\n",
    "- NumPy\n",
    "- Pandas\n",
    "- Matplotlib\n",
    "- Seaborn\n",
    "- Scikit-learn\n",
    "- TensorFlow\n",
    "- PyTorch\n",
    "- Keras\n",
    "- Statsmodels\n",
    "- NLTK (Natural Language Toolkit)\n"
   ]
  },
  {
   "cell_type": "markdown",
   "id": "999713a1",
   "metadata": {},
   "source": [
    "## Data Science Tools\n",
    "\n",
    "| Tool             |\n",
    "|------------------|\n",
    "| Jupyter Notebooks |\n",
    "| RStudio          |\n",
    "| VS Code          |\n",
    "| Spyder           |\n",
    "| Tableau          |\n",
    "| Apache Spark     |\n",
    "| Docker           |\n",
    "| Git              |\n",
    "| GitHub/GitLab    |\n",
    "| D3.js            |\n"
   ]
  },
  {
   "cell_type": "markdown",
   "id": "207f451a",
   "metadata": {},
   "source": [
    "## Arithmetic Expression Examples\n",
    "\n",
    "10+10=20"
   ]
  },
  {
   "cell_type": "code",
   "execution_count": 1,
   "id": "fe279fb7",
   "metadata": {},
   "outputs": [
    {
     "name": "stdout",
     "output_type": "stream",
     "text": [
      "Multiplication Result: 50\n",
      "Addition Result: 22\n"
     ]
    }
   ],
   "source": [
    "# Multiply two numbers\n",
    "multiply_result = 5 * 10\n",
    "print(\"Multiplication Result:\", multiply_result)\n",
    "\n",
    "# Add two numbers\n",
    "addition_result = 15 + 7\n",
    "print(\"Addition Result:\", addition_result)\n"
   ]
  },
  {
   "cell_type": "code",
   "execution_count": 2,
   "id": "68a0ad32",
   "metadata": {},
   "outputs": [
    {
     "name": "stdout",
     "output_type": "stream",
     "text": [
      "120 minutes is equal to 2.0 hours.\n"
     ]
    }
   ],
   "source": [
    "# Convert minutes to hours\n",
    "minutes = 120\n",
    "hours = minutes / 60\n",
    "\n",
    "print(f\"{minutes} minutes is equal to {hours} hours.\")\n"
   ]
  },
  {
   "cell_type": "markdown",
   "id": "81b982b3",
   "metadata": {},
   "source": [
    "## Objectives\n",
    "\n",
    "1. Explore Basic Arithmetic Operations\n",
    "2. Demonstrate Python Code for Arithmetic Expressions\n",
    "3. Introduce Conversion Concepts\n",
    "4. Encourage Hands-On Practice\n",
    "5. Promote Code Understanding\n"
   ]
  },
  {
   "cell_type": "markdown",
   "id": "31feda2e",
   "metadata": {},
   "source": [
    "## Author\n",
    "**iheb oueslati**\n"
   ]
  },
  {
   "cell_type": "code",
   "execution_count": null,
   "id": "99a05ce7",
   "metadata": {},
   "outputs": [],
   "source": []
  }
 ],
 "metadata": {
  "kernelspec": {
   "display_name": "Python 3 (ipykernel)",
   "language": "python",
   "name": "python3"
  },
  "language_info": {
   "codemirror_mode": {
    "name": "ipython",
    "version": 3
   },
   "file_extension": ".py",
   "mimetype": "text/x-python",
   "name": "python",
   "nbconvert_exporter": "python",
   "pygments_lexer": "ipython3",
   "version": "3.10.9"
  }
 },
 "nbformat": 4,
 "nbformat_minor": 5
}
